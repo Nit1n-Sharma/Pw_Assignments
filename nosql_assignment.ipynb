{
 "cells": [
  {
   "cell_type": "markdown",
   "metadata": {},
   "source": [
    "Q1. What is MongoDB? Explain non-relational databases in short. In which scenarios is it preferred to use MongoDB over SQL databases?\n",
    "\n",
    "MongoDB:\n",
    "MongoDB is a popular NoSQL (non-relational) database management system that provides a flexible and scalable way to store and manage data. It stores data in BSON (Binary JSON) format, which is a binary-encoded serialization of JSON-like documents. MongoDB is known for its scalability, flexibility, and ease of use.\n",
    "\n",
    "Non-Relational Databases:\n",
    "Non-relational databases, often referred to as NoSQL databases, are a type of database management system that doesn't rely on the traditional relational database model. Unlike SQL databases, NoSQL databases are schema-less and can handle various types of data, including structured, semi-structured, and unstructured data. They are designed to be scalable and perform well with large amounts of data and high-velocity data streams.\n",
    "\n",
    "Scenarios to Prefer MongoDB over SQL Databases:\n",
    "MongoDB is preferred over SQL databases in scenarios where:\n",
    "\n",
    "    Scalability: MongoDB is designed to scale horizontally by adding more servers to the database. It handles large amounts of data and high traffic efficiently.\n",
    "\n",
    "    Schema Flexibility: MongoDB does not enforce a rigid schema, allowing developers to work with flexible data models. This is particularly useful in scenarios where the data structure evolves over time.\n",
    "\n",
    "    Handling Unstructured Data: MongoDB excels at handling unstructured or semi-structured data, making it suitable for scenarios like document storage and content management.\n",
    "\n",
    "    Agile Development: MongoDB's document-oriented model aligns well with agile development practices, allowing developers to iterate quickly and adapt to changing requirements.\n",
    "\n",
    "    Geospatial Data: MongoDB provides robust support for geospatial data and queries, making it suitable for applications that involve location-based services.\n",
    "\n",
    "Q2. State and Explain the features of MongoDB.\n",
    "\n",
    "Key Features of MongoDB:\n",
    "\n",
    "    Document-Oriented: MongoDB stores data in JSON-like BSON documents, providing a flexible and rich data model.\n",
    "\n",
    "    Schema-less: MongoDB doesn't enforce a rigid schema, allowing developers to work with evolving data structures.\n",
    "\n",
    "    Scalability: MongoDB is designed to scale horizontally, making it suitable for handling large amounts of data and high-traffic applications.\n",
    "\n",
    "    Indexing: Supports various types of indexes to optimize query performance.\n",
    "\n",
    "    Aggregation Framework: Provides powerful aggregation capabilities for performing complex data transformations and analysis.\n",
    "\n",
    "    Ad Hoc Queries: Allows for ad hoc queries using a rich query language, including support for regular expressions and geospatial queries.\n",
    "\n",
    "    Sharding: Enables horizontal scaling by distributing data across multiple servers.\n",
    "\n",
    "    Replication: Supports automatic replication for high availability and fault tolerance.\n",
    "\n",
    "    Geospatial Indexing: Provides geospatial indexing and queries for location-based data.\n",
    "\n",
    "    GridFS: Allows storing and retrieving large files, such as images or videos."
   ]
  },
  {
   "cell_type": "markdown",
   "metadata": {},
   "source": [
    "Q3. Write code to connect MongoDB to Python. Also, create a database and a collection in MongoDB.\n"
   ]
  },
  {
   "cell_type": "code",
   "execution_count": null,
   "metadata": {},
   "outputs": [],
   "source": [
    "\n",
    "\n",
    "# Import the pymongo library\n",
    "import pymongo\n",
    "\n",
    "# Connect to the MongoDB server running on localhost at the default port (27017)\n",
    "client = pymongo.MongoClient(\"mongodb://localhost:27017/\")\n",
    "\n",
    "# Create or access a database named \"mydatabase\"\n",
    "mydatabase = client[\"mydatabase\"]\n",
    "\n",
    "# Create or access a collection named \"mycollection\" within the \"mydatabase\" database\n",
    "mycollection = mydatabase[\"mycollection\"]\n",
    "\n",
    "print(\"Connected to MongoDB\")\n",
    "\n",
    "\n",
    "\n",
    "# Insert one record into the \"mycollection\" collection\n",
    "record_one = {\"name\": \"John Doe\", \"age\": 25, \"city\": \"New York\"}\n",
    "result_one = mycollection.insert_one(record_one)\n",
    "\n",
    "# Insert multiple records into the \"mycollection\" collection\n",
    "records_many = [\n",
    "    {\"name\": \"Alice Smith\", \"age\": 30, \"city\": \"San Francisco\"},\n",
    "    {\"name\": \"Bob Johnson\", \"age\": 22, \"city\": \"Los Angeles\"},\n",
    "    {\"name\": \"Eva Brown\", \"age\": 28, \"city\": \"Chicago\"}\n",
    "]\n",
    "result_many = mycollection.insert_many(records_many)\n",
    "\n",
    "# Find and print the inserted records\n",
    "print(\"Inserted Record (One):\", mycollection.find_one({\"_id\": result_one.inserted_id}))\n",
    "print(\"Inserted Records (Many):\")\n",
    "for record in mycollection.find():\n",
    "    print(record)\n",
    "\n",
    "\n",
    "\n",
    "\n"
   ]
  },
  {
   "cell_type": "markdown",
   "metadata": {},
   "source": [
    "Q5. Explain how you can use the find() method to query the MongoDB database. Write a simple code to demonstrate this."
   ]
  },
  {
   "cell_type": "code",
   "execution_count": null,
   "metadata": {},
   "outputs": [],
   "source": [
    "# Find and print all records in the \"mycollection\" collection\n",
    "print(\"All Records:\")\n",
    "for record in mycollection.find():\n",
    "    print(record)\n",
    "\n",
    "# Find and print records where the age is greater than 25\n",
    "print(\"\\nRecords with Age > 25:\")\n",
    "for record in mycollection.find({\"age\": {\"$gt\": 25}}):\n",
    "    print(record)"
   ]
  },
  {
   "cell_type": "markdown",
   "metadata": {},
   "source": [
    "Q6. Explain the sort() method. Give an example to demonstrate sorting in MongoDB."
   ]
  },
  {
   "cell_type": "code",
   "execution_count": null,
   "metadata": {},
   "outputs": [],
   "source": [
    "\n",
    "\n",
    "# The sort() method in MongoDB is used to sort the results of a query based on one or more fields. \n",
    "# The method takes a dictionary where keys represent the fields to sort, and the values indicate the sort order\n",
    "# (1 for ascending, -1 for descending).\n",
    "\n",
    "# Example:\n",
    "\n",
    "# Find and print records in ascending order of age\n",
    "print(\"\\nSorted Records (Ascending Age):\")\n",
    "for record in mycollection.find().sort(\"age\", 1):\n",
    "    print(record)\n",
    "\n",
    "# Find and print records in descending order of age\n",
    "print(\"\\nSorted Records (Descending Age):\")\n",
    "for record in mycollection.find().sort(\"age\", -1):\n",
    "    print(record)"
   ]
  },
  {
   "cell_type": "markdown",
   "metadata": {},
   "source": [
    "#Q7. Explain why delete_one(), delete_many(), and drop() are used."
   ]
  },
  {
   "cell_type": "code",
   "execution_count": null,
   "metadata": {},
   "outputs": [],
   "source": [
    "\n",
    "\n",
    "#delete_one(filter): Deletes a single document in the collection that matches the specified filter criteria. \n",
    "# It deletes the first document that satisfies the condition.\n",
    "\n",
    " #   Example:\n",
    "\n",
    "mycollection.delete_one({\"name\": \"John Doe\"})\n",
    "\n",
    "#delete_many(filter): Deletes all documents in the collection that match the specified filter criteria. \n",
    "# It removes multiple documents that satisfy the condition.\n",
    "\n",
    "#Example:\n",
    "\n",
    "\n",
    "\n",
    "mycollection.delete_many({\"age\": {\"$lt\": 25}})\n",
    "\n",
    "# drop(): Deletes the entire collection, including all documents and indexes. \n",
    "# It is a more drastic action compared to delete_one() and delete_many().\n",
    "\n",
    "# Example:\n",
    "mycollection.drop()"
   ]
  }
 ],
 "metadata": {
  "kernelspec": {
   "display_name": "Python 3",
   "language": "python",
   "name": "python3"
  },
  "language_info": {
   "name": "python",
   "version": "3.11.4"
  }
 },
 "nbformat": 4,
 "nbformat_minor": 2
}
