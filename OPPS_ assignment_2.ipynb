{
 "cells": [
  {
   "cell_type": "markdown",
   "metadata": {},
   "source": [
    " #### Q1 Explain Class and Object with respect to Object-Oriented Programming. Give a suitable example."
   ]
  },
  {
   "cell_type": "code",
   "execution_count": null,
   "metadata": {},
   "outputs": [],
   "source": [
    "# Class:\n",
    "# A class is a blueprint or template for creating objects in OOP.\n",
    "#  It defines a set of attributes (also known as properties or fields) and\n",
    "#  methods (functions) that describe the characteristics and behaviors of objects \n",
    "#  that belong to that class. Classes act as a blueprint  for creating \n",
    "# multiple instances (objects) that share the same structure and behavior.\n",
    "\n",
    "\n",
    "# Object:\n",
    "# An object is an instance of a class. It is a concrete realization of the class\n",
    "#  blueprint, with its own unique data values for the class attributes. Objects \n",
    "#  represent individual entities or instances that can be manipulated in your program. \n",
    "#   They encapsulate both data (attributes) and behaviors (methods) defined by the class."
   ]
  },
  {
   "cell_type": "code",
   "execution_count": 6,
   "metadata": {},
   "outputs": [
    {
     "name": "stdout",
     "output_type": "stream",
     "text": [
      "30\n",
      "0\n"
     ]
    }
   ],
   "source": [
    "class Car:\n",
    "    def __init__(self, make, model, color):\n",
    "        self.make = make\n",
    "        self.model = model\n",
    "        self.color = color\n",
    "        self.is_engine_on = False\n",
    "        self.speed = 0\n",
    "\n",
    "    def start_engine(self):\n",
    "        self.is_engine_on = True\n",
    "\n",
    "    def accelerate(self, speed_increase):\n",
    "        if self.is_engine_on:\n",
    "            self.speed += speed_increase\n",
    "\n",
    "    def brake(self, speed_decrease):\n",
    "        if self.is_engine_on:\n",
    "            self.speed -= speed_decrease\n",
    "\n",
    "    def stop_engine(self):\n",
    "        self.is_engine_on = False\n",
    "        self.speed = 0\n",
    "\n",
    "    \n",
    "car= Car(\"toyota\",\"Xlv\",\"Black\")\n",
    "car.start_engine()\n",
    "car.accelerate(80)\n",
    "car.brake(50)\n",
    "print(car.speed)\n",
    "car.stop_engine()\n",
    "print(car.speed)\n"
   ]
  },
  {
   "cell_type": "markdown",
   "metadata": {},
   "source": [
    "#### Q2. Name the four pillars of OOPs.\n",
    "\n",
    "#### ANS. 1)Encapsulation\n",
    "####     2)Inheritance\n",
    "####     3)Polymorphism\n",
    "####     4)Abstraction "
   ]
  },
  {
   "cell_type": "markdown",
   "metadata": {},
   "source": [
    "#### Q3. Explain why the __init__() function is used. Give a suitable example."
   ]
  },
  {
   "cell_type": "code",
   "execution_count": 7,
   "metadata": {},
   "outputs": [
    {
     "name": "stdout",
     "output_type": "stream",
     "text": [
      "My name is Krish and I am 30 years old.\n",
      "My name is Subh and I am 25 years old.\n"
     ]
    }
   ],
   "source": [
    "# The __init__() function, often referred to as the constructor, is used in object-oriented \n",
    "# programming to initialize the attributes of an object when it is created from a class. \n",
    "#     This special method is called automatically when you create an instance (object) of a class. \n",
    "# Its primary purpose is to set up the initial state of the object by assigning values\n",
    "# to its attributes.\n",
    "\n",
    "\n",
    "class Person:\n",
    "    def __init__(self, name, age):\n",
    "        self.name = name\n",
    "        self.age = age\n",
    "\n",
    "    def introduce(self):\n",
    "        print(f\"My name is {self.name} and I am {self.age} years old.\")\n",
    "\n",
    "# Creating instances of the Person class\n",
    "person1 = Person(\"Krish\", 30)\n",
    "person2 = Person(\"Subh\", 25)\n",
    "\n",
    "# Accessing object attributes and calling methods\n",
    "person1.introduce()\n",
    "person2.introduce()  \n",
    "\n"
   ]
  },
  {
   "cell_type": "markdown",
   "metadata": {},
   "source": [
    "##### Q4. Why self is used in OOPs?"
   ]
  },
  {
   "cell_type": "code",
   "execution_count": null,
   "metadata": {},
   "outputs": [],
   "source": [
    "# In object-oriented programming (OOP), self is a reference to the current instance of a class.\n",
    "#  It is a convention used in many OOP languages, such as Python, to refer to the object itself\n",
    "#  within the class methods. \n",
    "# The use of self serves several important purposes like\n",
    "\n",
    "#       1)Accessing Object Attributes and Methods\n",
    "#       2)Referencing the Current Instance\n",
    "#       3) Encapsulation"
   ]
  },
  {
   "cell_type": "markdown",
   "metadata": {},
   "source": [
    "\n",
    "#### Q5. What is inheritance? Give an example for each type of inheritance."
   ]
  },
  {
   "cell_type": "code",
   "execution_count": 8,
   "metadata": {},
   "outputs": [
    {
     "name": "stdout",
     "output_type": "stream",
     "text": [
      "this is a method of parant 1 class\n",
      "this is the method of parent 2 class\n",
      "this is the method from child class \n"
     ]
    }
   ],
   "source": [
    "# Inheritance is a fundamental concept in object-oriented programming (OOP) that \n",
    "# allows you to create a new class (called a subclass or derived class) based on an \n",
    "# existing class (called a superclass or base class). The subclass inherits attributes and \n",
    "# methods from the superclass, which promotes code reuse,\n",
    "#  extensibility, and the establishment of a hierarchical relationship between classes. \n",
    "\n",
    "\n",
    "\n",
    "class parent1:\n",
    "    def method1(self):\n",
    "        print(\"this is a method of parant 1 class\")\n",
    "\n",
    "class parent2:\n",
    "    def method2(self):\n",
    "        print(\"this is the method of parent 2 class\")\n",
    "\n",
    "class child(parent1,parent2):\n",
    "    def child_method(self):\n",
    "        print(\"this is the method from child class \")\n",
    "\n",
    "\n",
    "Child = child()\n",
    "Child.method1()\n",
    "Child.method2()\n",
    "Child.child_method()"
   ]
  },
  {
   "cell_type": "code",
   "execution_count": null,
   "metadata": {},
   "outputs": [],
   "source": [
    "\n",
    "\n"
   ]
  },
  {
   "cell_type": "code",
   "execution_count": null,
   "metadata": {},
   "outputs": [],
   "source": []
  }
 ],
 "metadata": {
  "kernelspec": {
   "display_name": "Python 3",
   "language": "python",
   "name": "python3"
  },
  "language_info": {
   "codemirror_mode": {
    "name": "ipython",
    "version": 3
   },
   "file_extension": ".py",
   "mimetype": "text/x-python",
   "name": "python",
   "nbconvert_exporter": "python",
   "pygments_lexer": "ipython3",
   "version": "3.11.4"
  },
  "orig_nbformat": 4
 },
 "nbformat": 4,
 "nbformat_minor": 2
}
