{
 "cells": [
  {
   "cell_type": "markdown",
   "metadata": {},
   "source": [
    "#### Q1, Create a vehicle class with an init method having instance variables as name_of_vehicle, max_speed and average_of_vehicle."
   ]
  },
  {
   "cell_type": "code",
   "execution_count": 14,
   "metadata": {},
   "outputs": [
    {
     "name": "stdout",
     "output_type": "stream",
     "text": [
      "car:\n",
      "Name: Volvo\n",
      "Max Speed: 200\n",
      "Average Speed: 10\n"
     ]
    }
   ],
   "source": [
    "class vehicle:\n",
    "    def __init__(self,name_of_vehicle,max_speed,average_of_vehicle):\n",
    "        self.name_of_vehicle = name_of_vehicle\n",
    "        self.max_speed = max_speed\n",
    "        self.average_of_vehicle = average_of_vehicle\n",
    "\n",
    "# Create instances of the Vehicle class\n",
    "Car = vehicle(\"Volvo\",200,10)\n",
    "\n",
    "\n",
    "# Accessing instance variables\n",
    "print(\"car:\")\n",
    "print(\"Name:\",Car.name_of_vehicle)\n",
    "print(\"Max Speed:\",Car.max_speed)\n",
    "print(\"Average Speed:\",Car.average_of_vehicle)\n",
    "        "
   ]
  },
  {
   "cell_type": "markdown",
   "metadata": {},
   "source": [
    "##### Q2. Create a child class car from the vehicle class created in Que 1, which will inherit the vehicle class. Create a method named seating_capacity which takes capacity as an argument and returns the name of the vehicle and its seating capacity."
   ]
  },
  {
   "cell_type": "code",
   "execution_count": 40,
   "metadata": {},
   "outputs": [
    {
     "name": "stdout",
     "output_type": "stream",
     "text": [
      "Name of vechicle: {'BMW'} Capacity: 5\n"
     ]
    }
   ],
   "source": [
    "class vehicle:\n",
    "    def __init__(self,name_of_vehicle,max_speed,average_of_vehicle):\n",
    "        self.name_of_vehicle = name_of_vehicle\n",
    "        self.max_speed = max_speed\n",
    "        self.average_of_vehicle = average_of_vehicle\n",
    "\n",
    "class Car(vehicle):\n",
    "\n",
    "\n",
    "    def seating_capacity(self,capacity):\n",
    "        return capacity\n",
    "\n",
    "car = Car(\"BMW\",250,30)\n",
    "capacity = 5\n",
    "print(\"Name of vechicle:\",car.name_of_vehicle,\"Capacity:\",car.seating_capacity(capacity))\n",
    "\n"
   ]
  },
  {
   "cell_type": "markdown",
   "metadata": {},
   "source": [
    "##### Q  3. What is multiple inheritance? Write a python code to demonstrate multiple inheritance."
   ]
  },
  {
   "cell_type": "code",
   "execution_count": 49,
   "metadata": {},
   "outputs": [
    {
     "name": "stdout",
     "output_type": "stream",
     "text": [
      "this is a method of parant 1 class\n",
      "this is the method of parent 2 class\n",
      "this is the method from child class \n"
     ]
    }
   ],
   "source": [
    "# Multiple inheritance is a feature in object-oriented programming where a class can inherit \n",
    "# attributes and methods from more than one parent class. In Python, a class can inherit from multiple base\n",
    "#  classes, which means it can inherit attributes and methods from all of its parent classes.\n",
    "\n",
    "\n",
    "class parent1:\n",
    "    def method1(self):\n",
    "        print(\"this is a method of parant 1 class\")\n",
    "\n",
    "class parent2:\n",
    "    def method2(self):\n",
    "        print(\"this is the method of parent 2 class\")\n",
    "\n",
    "class child(parent1,parent2):\n",
    "    def child_method(self):\n",
    "        print(\"this is the method from child class \")\n",
    "\n",
    "\n",
    "Child = child()\n",
    "Child.method1()\n",
    "Child.method2()\n",
    "Child.child_method()"
   ]
  },
  {
   "cell_type": "markdown",
   "metadata": {},
   "source": [
    "#### Q4. What are getter and setter in python? Create a class and create a getter and a setter method in this class."
   ]
  },
  {
   "cell_type": "code",
   "execution_count": 50,
   "metadata": {},
   "outputs": [
    {
     "name": "stdout",
     "output_type": "stream",
     "text": [
      "Name Nitin\n",
      "Age 25\n",
      "Updated Name Ram\n",
      "Updated Age 28\n"
     ]
    }
   ],
   "source": [
    "class student:\n",
    "    def __init__(self,name,age):\n",
    "        self.__name = name          # Private attribute\n",
    "        self.__age = age            # Private attribute\n",
    "        \n",
    "    def get_name(self):             # getter for Name \n",
    "        return self.__name\n",
    "    \n",
    "    def set_name (self,name):        # setter for Name\n",
    "        self.__name = name\n",
    "    \n",
    "    def get_age(self):               # getter for Age\n",
    "        return self.__age\n",
    "    \n",
    "    def set_age(self,age):           # setter for Age\n",
    "        if age <= 0:\n",
    "            return \"Enter possitive number\"\n",
    "        else:\n",
    "            self.__age = age           \n",
    "    \n",
    "\n",
    "Detail=student(\"Nitin\", 25)\n",
    "print (\"Name\",Detail.get_name())\n",
    "print (\"Age\",Detail.get_age())\n",
    "\n",
    "Detail.set_name(\"Ram\")\n",
    "Detail.set_age(28)\n",
    "\n",
    "print (\"Updated Name\",Detail.get_name())\n",
    "print (\"Updated Age\",Detail.get_age())"
   ]
  },
  {
   "cell_type": "markdown",
   "metadata": {},
   "source": [
    "#### Q5.What is method overriding in python? Write a python code to demonstrate method overriding"
   ]
  },
  {
   "cell_type": "code",
   "execution_count": 51,
   "metadata": {},
   "outputs": [],
   "source": [
    "#  Method overriding is a concept in \n",
    "#  object-oriented programming where a subclass provides a specific implementation of a\n",
    "#  method that is already defined in its superclass. When a subclass overrides a method,\n",
    "#  the subclass's implementation of the method takes precedence over the superclass's \n",
    "#  implementation when called on objects of the subclass.\n",
    "\n",
    "import math\n",
    "class Shape:\n",
    "    def calculate_area(self):\n",
    "        pass\n",
    "\n",
    "    def calculate_perimeter(self):\n",
    "        pass\n",
    "\n",
    "class Circle(Shape):\n",
    "    def __init__(self, radius):\n",
    "        self.radius = radius\n",
    "\n",
    "    def calculate_area(self):  # This is method overriding\n",
    "        return math.pi * self.radius**2\n",
    "\n",
    "    def calculate_perimeter(self):  # This is method overriding\n",
    "        return 2 * math.pi * self.radius"
   ]
  },
  {
   "cell_type": "code",
   "execution_count": 58,
   "metadata": {},
   "outputs": [
    {
     "name": "stdout",
     "output_type": "stream",
     "text": [
      "AREA 153.93804002589985\n",
      "Perimeter 43.982297150257104\n"
     ]
    }
   ],
   "source": [
    "r=7\n",
    "circle = Circle(r)\n",
    "print(\"AREA\",circle.calculate_area())\n",
    "print(\"Perimeter\",circle.calculate_perimeter())"
   ]
  },
  {
   "cell_type": "code",
   "execution_count": null,
   "metadata": {},
   "outputs": [],
   "source": []
  }
 ],
 "metadata": {
  "kernelspec": {
   "display_name": "Python 3",
   "language": "python",
   "name": "python3"
  },
  "language_info": {
   "codemirror_mode": {
    "name": "ipython",
    "version": 3
   },
   "file_extension": ".py",
   "mimetype": "text/x-python",
   "name": "python",
   "nbconvert_exporter": "python",
   "pygments_lexer": "ipython3",
   "version": "3.11.4"
  },
  "orig_nbformat": 4
 },
 "nbformat": 4,
 "nbformat_minor": 2
}
