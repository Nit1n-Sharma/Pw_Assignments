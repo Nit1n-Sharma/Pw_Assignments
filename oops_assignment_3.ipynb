{
 "cells": [
  {
   "cell_type": "markdown",
   "metadata": {},
   "source": [
    "#### Q1. What is Abstraction in OOps? Explain with an example."
   ]
  },
  {
   "cell_type": "markdown",
   "metadata": {},
   "source": [
    "######  ANS.. Abstraction is the process of simplifying complex systems by modeling classes based on the essential \n",
    "###### characteristics and behaviors they exhibit, while hiding unnecessary details. \n",
    "###### It allows you to focus on what an object does rather than how it does it.\n",
    "###### Abstraction helps in managing complexity and creating a clear separation between the interface \n",
    "###### and implementation of a class. "
   ]
  },
  {
   "cell_type": "markdown",
   "metadata": {},
   "source": [
    "#### Q2. Differentiate between Abstraction and Encapsulation. Explain with an example."
   ]
  },
  {
   "cell_type": "markdown",
   "metadata": {},
   "source": [
    "###### Encapsulation: Encapsulation is the concept of bundling data (attributes) and methods (functions) that operate on that data into a single unit called a class. It involves restricting access to some of an object's components while exposing others. Encapsulation helps in data hiding and protecting the internal state of an object from direct external access, ensuring that data is accessed and modified through well-defined interfaces (methods).\n",
    "\n",
    "######  Abstraction is the process of simplifying complex systems by modeling classes based on the essential characteristics and behaviors they exhibit, while hiding unnecessary details. It allows you to focus on what an object does rather than how it does it. Abstraction helps in managing complexity and creating a clear separation between the interface and implementation of a class."
   ]
  },
  {
   "cell_type": "code",
   "execution_count": 2,
   "metadata": {},
   "outputs": [
    {
     "name": "stdout",
     "output_type": "stream",
     "text": [
      "Area of shape: 78.5\n",
      "Area of shape: 24\n"
     ]
    }
   ],
   "source": [
    "# example  of abstaction\n",
    "class Shape:\n",
    "    def area(self):\n",
    "        pass\n",
    "\n",
    "class Circle(Shape):\n",
    "    def __init__(self, radius):\n",
    "        self.radius = radius\n",
    "\n",
    "    def area(self):\n",
    "        return 3.14 * self.radius * self.radius\n",
    "\n",
    "class Rectangle(Shape):\n",
    "    def __init__(self, length, width):\n",
    "        self.length = length\n",
    "        self.width = width\n",
    "\n",
    "    def area(self):\n",
    "        return self.length * self.width\n",
    "\n",
    "# Usage of abstraction\n",
    "shapes = [Circle(5), Rectangle(4, 6)]\n",
    "\n",
    "for shape in shapes:\n",
    "    print(f\"Area of shape: {shape.area()}\")\n"
   ]
  },
  {
   "cell_type": "code",
   "execution_count": 3,
   "metadata": {},
   "outputs": [
    {
     "name": "stdout",
     "output_type": "stream",
     "text": [
      "Account balance: 1200\n"
     ]
    }
   ],
   "source": [
    "#Example of encapsulation\n",
    "\n",
    "class BankAccount:\n",
    "    def __init__(self, account_number, balance):\n",
    "        self.__account_number = account_number  # Encapsulated attribute\n",
    "        self.__balance = balance                # Encapsulated attribute\n",
    "\n",
    "    def deposit(self, amount):\n",
    "        if amount > 0:\n",
    "            self.__balance += amount\n",
    "\n",
    "    def withdraw(self, amount):\n",
    "        if amount > 0 and amount <= self.__balance:\n",
    "            self.__balance -= amount\n",
    "\n",
    "    def get_balance(self):\n",
    "        return self.__balance\n",
    "\n",
    "# Usage of encapsulation\n",
    "account = BankAccount(\"123456789\", 1000)\n",
    "\n",
    "account.deposit(500)\n",
    "account.withdraw(300)\n",
    "\n",
    "print(f\"Account balance: {account.get_balance()}\")\n"
   ]
  },
  {
   "cell_type": "markdown",
   "metadata": {},
   "source": [
    "#### Q3. What is abc module in python? Why is it used?"
   ]
  },
  {
   "cell_type": "code",
   "execution_count": null,
   "metadata": {},
   "outputs": [],
   "source": [
    "#  In Python, the abc module stands for \"Abstract Base Classes.\" It is a module \n",
    "# that provides a way to define abstract base classes and abstract methods, which are classes \n",
    "# and methods that must be implemented by concrete subclasses.\n",
    "\n",
    "# The primary purpose of the abc module is to support the concept of abstraction a\n",
    "# nd interface definition in Python"
   ]
  },
  {
   "cell_type": "markdown",
   "metadata": {},
   "source": [
    "#### Q4. How can we achieve data abstraction?"
   ]
  },
  {
   "cell_type": "code",
   "execution_count": null,
   "metadata": {},
   "outputs": [],
   "source": [
    "#      Classes and Objects: Use classes to encapsulate data and operations, providing a clear interface.\n",
    "\n",
    "#     Access Modifiers: Employ access modifiers (e.g., underscores) to control access to class attributes.\n",
    "\n",
    "#     Abstract Base Classes (ABCs): Use the abc module to define abstract base classes and abstract methods.\n",
    "\n",
    "#     Encapsulation: Bundle data and methods within classes and use access modifiers to restrict access to data.\n",
    "\n",
    "#     Inheritance: Create specialized subclasses inheriting properties and methods from a superclass.\n",
    "\n",
    "#     Interfaces: Define interfaces using abstract base classes (ABCs) and abstract methods.\n",
    "\n",
    "#     Property Decorators: Use property decorators to control attribute access and modification. "
   ]
  },
  {
   "cell_type": "markdown",
   "metadata": {},
   "source": [
    "#### Q5. Can we create an instance of an abstract class? Explain your answer."
   ]
  },
  {
   "cell_type": "markdown",
   "metadata": {},
   "source": [
    "#### No, you cannot create an instance of an abstract class in Python. Abstract classes are meant to be base classes that provide a blueprint for other classes to inherit from, but they cannot be instantiated themselves. Attempting to create an instance of an abstract class will result in a TypeError."
   ]
  },
  {
   "cell_type": "markdown",
   "metadata": {},
   "source": []
  }
 ],
 "metadata": {
  "kernelspec": {
   "display_name": "Python 3",
   "language": "python",
   "name": "python3"
  },
  "language_info": {
   "codemirror_mode": {
    "name": "ipython",
    "version": 3
   },
   "file_extension": ".py",
   "mimetype": "text/x-python",
   "name": "python",
   "nbconvert_exporter": "python",
   "pygments_lexer": "ipython3",
   "version": "3.11.4"
  },
  "orig_nbformat": 4
 },
 "nbformat": 4,
 "nbformat_minor": 2
}
