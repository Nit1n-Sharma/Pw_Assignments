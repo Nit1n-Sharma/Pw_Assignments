{
 "cells": [
  {
   "cell_type": "code",
   "execution_count": 9,
   "metadata": {},
   "outputs": [
    {
     "name": "stdout",
     "output_type": "stream",
     "text": [
      "180 25\n"
     ]
    }
   ],
   "source": [
    "class vehicle:\n",
    "    def __init__(self,max_speed,milage):\n",
    "        self.max_speed = max_speed\n",
    "        self.milage = milage\n",
    "model_xlv =vehicle(180,25)\n",
    "print(model_xlv.max_speed,model_xlv.milage)"
   ]
  },
  {
   "cell_type": "code",
   "execution_count": 11,
   "metadata": {},
   "outputs": [
    {
     "name": "stdout",
     "output_type": "stream",
     "text": [
      "50\n"
     ]
    }
   ],
   "source": [
    "class Bus(vehicle):\n",
    "    pass\n",
    "\n",
    "\n",
    "model = Bus(50,60)\n",
    "print(model.max_speed)"
   ]
  },
  {
   "cell_type": "code",
   "execution_count": null,
   "metadata": {},
   "outputs": [],
   "source": []
  }
 ],
 "metadata": {
  "kernelspec": {
   "display_name": "Python 3",
   "language": "python",
   "name": "python3"
  },
  "language_info": {
   "codemirror_mode": {
    "name": "ipython",
    "version": 3
   },
   "file_extension": ".py",
   "mimetype": "text/x-python",
   "name": "python",
   "nbconvert_exporter": "python",
   "pygments_lexer": "ipython3",
   "version": "3.11.4"
  },
  "orig_nbformat": 4
 },
 "nbformat": 4,
 "nbformat_minor": 2
}
